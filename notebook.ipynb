{
 "cells": [
  {
   "cell_type": "code",
   "execution_count": 13,
   "id": "b1510bb9",
   "metadata": {},
   "outputs": [],
   "source": [
    "import torch\n",
    "import tiktoken\n",
    "import re\n",
    "import matplotlib.pyplot\n",
    "%matplotlib inline"
   ]
  },
  {
   "cell_type": "code",
   "execution_count": null,
   "id": "b2a559a5",
   "metadata": {},
   "outputs": [],
   "source": [
    "with open(\"tolstoy.txt\", 'r', encoding=\"utf-8\") as f:\n",
    "        txt = f.read()\n",
    "preprocessed = re.split(r'([,.?_!\"()\\']|--|\\s)', txt)\n",
    "preprocessed = [item.strip() for item in preprocessed if item.strip()]\n",
    "txt = \" \".join(preprocessed)\n",
    "txt = re.sub(r'\\s+([,.?!\"()\\'])', r'\\1', text)"
   ]
  },
  {
   "cell_type": "code",
   "execution_count": 6,
   "id": "1ca7b575",
   "metadata": {},
   "outputs": [],
   "source": [
    "tokenizer = tiktoken.get_encoding(\"cl100k_base\")"
   ]
  },
  {
   "cell_type": "code",
   "execution_count": 10,
   "id": "f75e9603",
   "metadata": {},
   "outputs": [],
   "source": [
    "ind = tokenizer.encode(txt[500: 1000])"
   ]
  },
  {
   "cell_type": "code",
   "execution_count": 11,
   "id": "05962e71",
   "metadata": {},
   "outputs": [
    {
     "data": {
      "text/plain": [
       "'s peur,[2] садитесь и рассказывайте.\\n\\nТак говорила в июле 1805 года известная Анна Павловна Шерер, фрейлина и приближенная императрицы Марии Феодоровны, встречая важного и чиновного князя Василия, первого приехавшего на ее вечер. Анна Павловна кашляла несколько дней, у нее был грипп, как она говорила (грипп был тогда новое слово, употреблявшееся только редкими). В записочках, разосланных утром с красным лакеем, было написано без различия во всех:\\n\\n«Si vous n’avez rien de mieux а faire, Monsieur '"
      ]
     },
     "execution_count": 11,
     "metadata": {},
     "output_type": "execute_result"
    }
   ],
   "source": [
    "tokenizer.decode(ind)"
   ]
  },
  {
   "cell_type": "code",
   "execution_count": 14,
   "id": "e28b6822",
   "metadata": {},
   "outputs": [],
   "source": [
    "preprocessed = re.split(r'([,.?_!\"()\\']|--|\\s)', txt)\n",
    "preprocessed = [item.strip() for item in preprocessed if item.strip()]\n"
   ]
  },
  {
   "cell_type": "code",
   "execution_count": 17,
   "id": "41eed717",
   "metadata": {},
   "outputs": [],
   "source": [
    "text = \" \".join(preprocessed)"
   ]
  },
  {
   "cell_type": "code",
   "execution_count": 18,
   "id": "3f998c35",
   "metadata": {},
   "outputs": [],
   "source": [
    "text = re.sub(r'\\s+([,.?!\"()\\'])', r'\\1', text)"
   ]
  },
  {
   "cell_type": "code",
   "execution_count": null,
   "id": "c2b18e26",
   "metadata": {},
   "outputs": [
    {
     "data": {
      "text/plain": [
       "'ве можно, имея чувство, оставаться спокойною в наше время? – сказала Анна Павловна. – Вы весь вечер у меня, надеюсь?\\n\\n– А праздник английского посланника? Нынче середа. Мне надо показаться там, – сказал князь. – Дочь заедет за мной и повезет меня.\\n\\n– Я думала, что нынешний праздник отменен. Je vous avoue que toutes ces fêtes et tons ces feux d’artifice commencent а devenir insipides.[6]\\n\\n– Ежели бы знали, что вы этого хотите, праздник бы отменили, – сказал князь, по привычке, как заведенные часы'"
      ]
     },
     "execution_count": 23,
     "metadata": {},
     "output_type": "execute_result"
    }
   ],
   "source": [
    "text[2000:2500]"
   ]
  },
  {
   "cell_type": "code",
   "execution_count": null,
   "id": "86614a2c",
   "metadata": {},
   "outputs": [],
   "source": []
  }
 ],
 "metadata": {
  "kernelspec": {
   "display_name": "base",
   "language": "python",
   "name": "python3"
  },
  "language_info": {
   "codemirror_mode": {
    "name": "ipython",
    "version": 3
   },
   "file_extension": ".py",
   "mimetype": "text/x-python",
   "name": "python",
   "nbconvert_exporter": "python",
   "pygments_lexer": "ipython3",
   "version": "3.12.7"
  }
 },
 "nbformat": 4,
 "nbformat_minor": 5
}
